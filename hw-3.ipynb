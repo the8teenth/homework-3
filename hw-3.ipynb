{
 "cells": [
  {
   "cell_type": "markdown",
   "id": "6657ce12",
   "metadata": {},
   "source": [
    "## Задание 1"
   ]
  },
  {
   "cell_type": "code",
   "execution_count": 68,
   "id": "9cdb6081",
   "metadata": {},
   "outputs": [
    {
     "name": "stdout",
     "output_type": "stream",
     "text": [
      "{98, 35, 213, 54, 119, 15}\n"
     ]
    }
   ],
   "source": [
    "ids = {\n",
    "    'user1': [213, 213, 213, 15, 213], \n",
    "    'user2': [54, 54, 119, 119, 119], \n",
    "    'user3': [213, 98, 98, 35]\n",
    "}\n",
    "\n",
    "geotags = set()\n",
    "\n",
    "for tags in ids.values():\n",
    "    set_tags = set(tags)\n",
    "    geotags.update(set_tags)\n",
    "        \n",
    "print(geotags)"
   ]
  },
  {
   "cell_type": "markdown",
   "id": "6288509e",
   "metadata": {},
   "source": [
    "## Задание 2"
   ]
  },
  {
   "cell_type": "code",
   "execution_count": 131,
   "id": "3eb8f921",
   "metadata": {},
   "outputs": [
    {
     "name": "stdout",
     "output_type": "stream",
     "text": [
      "Поисковых запросов, содержащих 2 слов(а):  42.86%\n",
      "Поисковых запросов, содержащих 3 слов(а):  57.14%\n"
     ]
    }
   ],
   "source": [
    "queries = [\n",
    "    'смотреть сериалы онлайн',\n",
    "    'новости спорта',\n",
    "    'афиша кино',\n",
    "    'курс доллара',\n",
    "    'сериалы этим летом',\n",
    "    'курс по питону',\n",
    "    'сериалы про спорт', \n",
    "]\n",
    "\n",
    "words = [len(qry.split()) for qry in queries]\n",
    "\n",
    "for w in sorted(set(words)):\n",
    "    print(f\"Поисковых запросов, содержащих {w} слов(а): {words.count(w) / len(queries): .2%}\")"
   ]
  },
  {
   "cell_type": "markdown",
   "id": "43f607cc",
   "metadata": {},
   "source": [
    "## Задание 3"
   ]
  },
  {
   "cell_type": "code",
   "execution_count": 134,
   "id": "5621e0da",
   "metadata": {},
   "outputs": [
    {
     "name": "stdout",
     "output_type": "stream",
     "text": [
      "{'vk': {'revenue': 103, 'cost': 98, 'ROI': 5.1}, 'yandex': {'revenue': 179, 'cost': 153, 'ROI': 16.99}, 'facebook': {'revenue': 103, 'cost': 110, 'ROI': -6.36}, 'adwords': {'revenue': 35, 'cost': 34, 'ROI': 2.94}, 'twitter': {'revenue': 11, 'cost': 24, 'ROI': -54.17}}\n"
     ]
    }
   ],
   "source": [
    "results = {\n",
    "    'vk': {'revenue': 103, 'cost': 98},\n",
    "    'yandex': {'revenue': 179, 'cost': 153},\n",
    "    'facebook': {'revenue': 103, 'cost': 110},\n",
    "    'adwords': {'revenue': 35, 'cost': 34},\n",
    "    'twitter': {'revenue': 11, 'cost': 24},\n",
    "}\n",
    "\n",
    "for values in results.values():\n",
    "    values['ROI'] = round((values['revenue'] / values['cost'] - 1) * 100, 2)\n",
    "\n",
    "print(results)"
   ]
  },
  {
   "cell_type": "markdown",
   "id": "55eac1d7",
   "metadata": {},
   "source": [
    "## Задание 4"
   ]
  },
  {
   "cell_type": "code",
   "execution_count": 127,
   "id": "3cef7a7c",
   "metadata": {},
   "outputs": [
    {
     "name": "stdout",
     "output_type": "stream",
     "text": [
      "Максимальный объем продаж на рекламном канале: vk\n"
     ]
    }
   ],
   "source": [
    "stats = {\n",
    "    'facebook': 55,\n",
    "    'yandex': 115,\n",
    "    'vk': 120,\n",
    "    'google': 99,\n",
    "    'email': 42,\n",
    "    'ok': 98\n",
    "}\n",
    "\n",
    "max_value = max(stats, key = stats.get)\n",
    "print('Максимальный объем продаж на рекламном канале:', max_value)"
   ]
  }
 ],
 "metadata": {
  "kernelspec": {
   "display_name": "Python 3",
   "language": "python",
   "name": "python3"
  },
  "language_info": {
   "codemirror_mode": {
    "name": "ipython",
    "version": 3
   },
   "file_extension": ".py",
   "mimetype": "text/x-python",
   "name": "python",
   "nbconvert_exporter": "python",
   "pygments_lexer": "ipython3",
   "version": "3.8.8"
  }
 },
 "nbformat": 4,
 "nbformat_minor": 5
}
